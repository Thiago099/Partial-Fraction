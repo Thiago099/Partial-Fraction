{
 "cells": [
  {
   "cell_type": "code",
   "execution_count": 4,
   "source": [
    "import partial_fraction as pf\r\n",
    "pf.solve('x^3+x^2+2x+1/(x^2+1)(x^2+2)')"
   ],
   "outputs": [
    {
     "output_type": "stream",
     "name": "stdout",
     "text": [
      "[(Ax + B)/(x^2+1)] + [(Cx + D)/(x^2+2)]\n",
      "\n",
      "2B + D = 1\n",
      "2A + C = 2\n",
      "B + D = 1\n",
      "A + C = 1\n"
     ]
    }
   ],
   "metadata": {}
  }
 ],
 "metadata": {
  "orig_nbformat": 4,
  "language_info": {
   "name": "python",
   "version": "3.9.1",
   "mimetype": "text/x-python",
   "codemirror_mode": {
    "name": "ipython",
    "version": 3
   },
   "pygments_lexer": "ipython3",
   "nbconvert_exporter": "python",
   "file_extension": ".py"
  },
  "kernelspec": {
   "name": "python3",
   "display_name": "Python 3.9.1 64-bit"
  },
  "interpreter": {
   "hash": "ac59ebe37160ed0dfa835113d9b8498d9f09ceb179beaac4002f036b9467c963"
  }
 },
 "nbformat": 4,
 "nbformat_minor": 2
}