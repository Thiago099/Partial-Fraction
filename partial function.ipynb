{
 "cells": [
  {
   "cell_type": "code",
   "execution_count": 4,
   "source": [
    "import re"
   ],
   "outputs": [],
   "metadata": {}
  },
  {
   "cell_type": "code",
   "execution_count": 14,
   "source": [
    "input = '(1+6x)/(4x^2-3)(2x+5)^3'\r\n",
    "\r\n",
    "for i in range(len(input)):\r\n",
    "    if(input[i] == '/'):\r\n",
    "        break\r\n",
    "def serialize(s):\r\n",
    "    return [ [x.group(1),( int(x.group(3)) if x.group(3) else 1 if x.group(2) else 0)] for x in re.finditer('(\\d)(x?)\\^?(\\d+)?', s)]\r\n",
    "a = serialize(input[:i])\r\n",
    "preb = [ [(int(x.group(2)) if x.group(2) else 1), x.group(1)] for x in re.finditer('(\\(.*?\\))\\^?(\\d+)?',input[i+1::])]\r\n",
    "\r\n",
    "\r\n",
    "cur = 0\r\n",
    "b = []\r\n",
    "\r\n",
    "bc = []\r\n",
    "for i in preb:\r\n",
    "    for j in range(i[0]):\r\n",
    "        bc.append(serialize(i[1])+[j+1])\r\n",
    "for i in range(len(preb)):\r\n",
    "    for j in range(preb[i][0]):\r\n",
    "       \r\n",
    "                \r\n",
    "        highest = 1\r\n",
    "        for k in re.finditer('\\^(\\d+)', preb[i][1]):\r\n",
    "            kk = int(k.group(1))\r\n",
    "            if(kk > highest):\r\n",
    "                highest = kk\r\n",
    "        pair = []\r\n",
    "        for k in range(highest-1,-1,-1):\r\n",
    "            pair.append(k)\r\n",
    "\r\n",
    "        cb = []\r\n",
    "        for k in range(highest):\r\n",
    "            cb.append([chr(cur+k+ord('A')),pair[k]])\r\n",
    "        b.append(cb)\r\n",
    "        cur += highest \r\n",
    "\r\n",
    "print(a)\r\n",
    "print(b)\r\n",
    "print(bc)\r\n",
    "\r\n",
    "def build(obj):\r\n",
    "    if(obj[1]) == 0:\r\n",
    "        return obj[0]\r\n",
    "    if(obj[1] == 1):\r\n",
    "        return obj[0] + 'x'\r\n",
    "    return obj[0] + 'x^' + obj[1]\r\n",
    "\r\n",
    "tb = b.copy()\r\n",
    "\r\n",
    "# i = 0\r\n",
    "# for i in range(len(tb)):\r\n"
   ],
   "outputs": [
    {
     "output_type": "stream",
     "name": "stdout",
     "text": [
      "[[['2', 1], ['5', 0], 1], [['2', 1], ['5', 0], 2], [['2', 1], ['5', 0], 3]]\n",
      "[[['2', 1], ['5', 0], 1], [['2', 1], ['5', 0], 2], [['2', 1], ['5', 0], 3]]\n",
      "[[['4', 2], ['3', 0], 1], [['2', 1], ['5', 0], 2], [['2', 1], ['5', 0], 3]]\n",
      "[[['4', 2], ['3', 0], 1], [['2', 1], ['5', 0], 1], [['2', 1], ['5', 0], 3]]\n",
      "[['1', 0], ['6', 1]]\n",
      "[[['A', 1], ['B', 0]], [['C', 0]], [['D', 0]], [['E', 0]]]\n",
      "[[['4', 2], ['3', 0], 1], [['2', 1], ['5', 0], 1], [['2', 1], ['5', 0], 2], [['2', 1], ['5', 0], 3]]\n"
     ]
    }
   ],
   "metadata": {}
  }
 ],
 "metadata": {
  "orig_nbformat": 4,
  "language_info": {
   "name": "python",
   "version": "3.9.1",
   "mimetype": "text/x-python",
   "codemirror_mode": {
    "name": "ipython",
    "version": 3
   },
   "pygments_lexer": "ipython3",
   "nbconvert_exporter": "python",
   "file_extension": ".py"
  },
  "kernelspec": {
   "name": "python3",
   "display_name": "Python 3.9.1 64-bit"
  },
  "interpreter": {
   "hash": "ac59ebe37160ed0dfa835113d9b8498d9f09ceb179beaac4002f036b9467c963"
  }
 },
 "nbformat": 4,
 "nbformat_minor": 2
}