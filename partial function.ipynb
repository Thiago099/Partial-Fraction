{
 "cells": [
  {
   "cell_type": "code",
   "execution_count": 6,
   "source": [
    "import partial_function as pf\r\n",
    "\r\n",
    "pf.solve('(1+6x+8x^2)/(4x^2-3)(2x+5)^2')"
   ],
   "outputs": [
    {
     "output_type": "stream",
     "name": "stdout",
     "text": [
      "[(Ax + B)/(4x^2-3)] + [(C)/(2x+5)] + [(D)/(2x+5)^2]\n",
      "\n",
      "1 = 25B + -3C + -3D\n",
      "6x = 25Ax + 20Bx\n",
      "8x^2 = 20Ax^2 + 4Bx^2 + 4Cx^2 + 4Dx^2\n",
      "0 = 4Ax^3\n"
     ]
    }
   ],
   "metadata": {}
  }
 ],
 "metadata": {
  "orig_nbformat": 4,
  "language_info": {
   "name": "python",
   "version": "3.9.1",
   "mimetype": "text/x-python",
   "codemirror_mode": {
    "name": "ipython",
    "version": 3
   },
   "pygments_lexer": "ipython3",
   "nbconvert_exporter": "python",
   "file_extension": ".py"
  },
  "kernelspec": {
   "name": "python3",
   "display_name": "Python 3.9.1 64-bit"
  },
  "interpreter": {
   "hash": "ac59ebe37160ed0dfa835113d9b8498d9f09ceb179beaac4002f036b9467c963"
  }
 },
 "nbformat": 4,
 "nbformat_minor": 2
}