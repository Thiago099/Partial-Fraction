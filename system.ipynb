{
 "cells": [
  {
   "cell_type": "code",
   "execution_count": 1,
   "source": [
    "import math\r\n",
    "def solve(input):\r\n",
    "    def normalize(value, line):\r\n",
    "        for i in range(len(line)):\r\n",
    "            line[i] /= value\r\n",
    "\r\n",
    "    def nullify(value, source, target):\r\n",
    "        for i in range(len(source)):\r\n",
    "            target[i] -= source[i] * value\r\n",
    "\r\n",
    "    i = 0\r\n",
    "    done_lines = []\r\n",
    "    while(i < len(input[0])):\r\n",
    "        min_zeros = math.inf\r\n",
    "        min_line = 0\r\n",
    "        for j in range(len(input)):\r\n",
    "            for k in range(i, len(input[j])):\r\n",
    "                if(input[j][k] != 0):\r\n",
    "                    break\r\n",
    "            if(j < min_zeros and j not in done_lines):\r\n",
    "                min_zeros = k\r\n",
    "                min_line = j\r\n",
    "        \r\n",
    "        done_lines.append(min_line)\r\n",
    "\r\n",
    "        i = min_zeros\r\n",
    "        if(min_zeros == math.inf): break\r\n",
    "        normalize(input[min_line][i], input[min_line])\r\n",
    "        for j in range(len(input)):\r\n",
    "            if(j != min_line):\r\n",
    "                nullify(input[j][i], input[min_line], input[j])\r\n",
    "        i+=1\r\n",
    "        \r\n",
    "        \r\n",
    "        \r\n",
    "input = [\r\n",
    "    [1, 2, -1,  2, 1],\r\n",
    "    [2, 4,  1, -2, 3],\r\n",
    "    [3, 6,  2, -6, 5]\r\n",
    "]\r\n",
    "input = [\r\n",
    "    [1, 0, 1, 0, 1],\r\n",
    "    [0, 1, 0, 1, 1],\r\n",
    "    [2, 0, 1, 0, 2],\r\n",
    "    [0, 2, 0, 1, 1]\r\n",
    "]\r\n",
    "solve(input)\r\n",
    "for j in input:\r\n",
    "    print(j)\r\n",
    "# normalize(2, input[0])\r\n",
    "# nullify(2,input[0],input[1])\r\n",
    "# print(input)\r\n",
    "\r\n"
   ],
   "outputs": [
    {
     "output_type": "stream",
     "name": "stdout",
     "text": [
      "[1.0, 0.0, 0.0, 0.0, 1.0]\n",
      "[0.0, 1.0, 0.0, 0.0, 0.0]\n",
      "[-0.0, -0.0, 1.0, 0.0, 0.0]\n",
      "[-0.0, -0.0, -0.0, 1.0, 1.0]\n"
     ]
    }
   ],
   "metadata": {}
  }
 ],
 "metadata": {
  "orig_nbformat": 4,
  "language_info": {
   "name": "python",
   "version": "3.9.1",
   "mimetype": "text/x-python",
   "codemirror_mode": {
    "name": "ipython",
    "version": 3
   },
   "pygments_lexer": "ipython3",
   "nbconvert_exporter": "python",
   "file_extension": ".py"
  },
  "kernelspec": {
   "name": "python3",
   "display_name": "Python 3.9.1 64-bit"
  },
  "interpreter": {
   "hash": "ac59ebe37160ed0dfa835113d9b8498d9f09ceb179beaac4002f036b9467c963"
  }
 },
 "nbformat": 4,
 "nbformat_minor": 2
}