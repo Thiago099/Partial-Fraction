{
 "cells": [
  {
   "cell_type": "code",
   "execution_count": 1,
   "source": [
    "import partial_fraction as pf\r\n",
    "\r\n",
    "print(pf.solve('(x^3+x^2+2x+1)/(x^2+1)(x^2+2)'))\r\n"
   ],
   "outputs": [
    {
     "output_type": "stream",
     "name": "stdout",
     "text": [
      "[x/(x^2+1)] + [1/(x^2+2)]\n"
     ]
    }
   ],
   "metadata": {}
  },
  {
   "cell_type": "code",
   "execution_count": 4,
   "source": [
    "import partial_fraction as pf\r\n",
    "\r\n",
    "print(pf.solve('(x^4)/(x^2-x+1)(x^2+2)^2'))\r\n"
   ],
   "outputs": [
    {
     "output_type": "stream",
     "name": "stdout",
     "text": [
      "[[[1, 4], [4, 2], [4, 0]], [[1, 4], [3, 2], [-1, 3], [-2, 1], [2, 0]], [[1, 2], [-1, 1], [1, 0]]]\n",
      "[-0.3333333333333333/(x^2-x+1)] + [(-1.1102230246251565e-16x + 1.3333333333333333)/(x^2+2)] + [(1.3333333333333335x + -1.3333333333333333)/(x^2+2)^2]\n"
     ]
    }
   ],
   "metadata": {}
  },
  {
   "cell_type": "code",
   "execution_count": null,
   "source": [
    "import system as si\r\n",
    "\r\n",
    "def print_r(matrix):\r\n",
    "    for i in matrix:\r\n",
    "        print(i)\r\n",
    "    print()\r\n",
    "\r\n",
    "\r\n",
    "input = [\r\n",
    "    'a + b + c = -3',\r\n",
    "    '9a + 3b + c = -7',\r\n",
    "    '16a + 4b + c = -6'\r\n",
    "]\r\n",
    "print_r(si.solve(input))\r\n",
    "\r\n",
    "input = [\r\n",
    "    'x + 2y + -z + 2w = 1',\r\n",
    "    '2x + 4y + 1z + -2w = 3',\r\n",
    "    '3x + 6y + 2z + -6w = 5',\r\n",
    "]\r\n",
    "print_r(si.solve(input))"
   ],
   "outputs": [],
   "metadata": {}
  }
 ],
 "metadata": {
  "orig_nbformat": 4,
  "language_info": {
   "name": "python",
   "version": "3.9.1",
   "mimetype": "text/x-python",
   "codemirror_mode": {
    "name": "ipython",
    "version": 3
   },
   "pygments_lexer": "ipython3",
   "nbconvert_exporter": "python",
   "file_extension": ".py"
  },
  "kernelspec": {
   "name": "python3",
   "display_name": "Python 3.9.1 64-bit"
  },
  "interpreter": {
   "hash": "ac59ebe37160ed0dfa835113d9b8498d9f09ceb179beaac4002f036b9467c963"
  }
 },
 "nbformat": 4,
 "nbformat_minor": 2
}